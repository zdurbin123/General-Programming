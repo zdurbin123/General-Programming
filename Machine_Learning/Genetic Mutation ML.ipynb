{
 "cells": [
  {
   "cell_type": "code",
   "execution_count": 176,
   "id": "137b3354",
   "metadata": {},
   "outputs": [
    {
     "name": "stderr",
     "output_type": "stream",
     "text": [
      "/var/folders/2p/lh7zshkn3_b0k0vs8b8b3yqm0000gn/T/ipykernel_11770/1781222102.py:4: MatplotlibDeprecationWarning: The seaborn styles shipped by Matplotlib are deprecated since 3.6, as they no longer correspond to the styles shipped by seaborn. However, they will remain available as 'seaborn-v0_8-<style>'. Alternatively, directly use the seaborn API instead.\n",
      "  plt.style.use('seaborn-whitegrid')\n"
     ]
    },
    {
     "name": "stdout",
     "output_type": "stream",
     "text": [
      "[1.5063138870068604, 28.73252420507714, 14.094536014601204, -33.12352621366394]\n"
     ]
    }
   ],
   "source": [
    "import matplotlib.pyplot as plt\n",
    "plt.style.use('seaborn-whitegrid')\n",
    "import numpy as np\n",
    "from numpy import random\n",
    "import random as r\n",
    "\n",
    "crossoverRandCoef = random.choice([0, 1, 2, 3])\n",
    "bestOverall = []\n",
    "noise_scale = 100\n",
    "number_of_samples = 50\n",
    "a = 25*(np.random.rand(number_of_samples, 1) - 0.8)\n",
    "b = 5 * a + 20 * a**2 + 1 * a**3 + noise_scale*np.random.randn(number_of_samples, 1)\n",
    "\n",
    "\n",
    "x1 = []\n",
    "y1 = []\n",
    "\n",
    "for i in range(50):\n",
    "    x1.append(a[i][0])\n",
    "    y1.append(b[i][0])\n",
    "    \n",
    "#get predictions and fitness for the random arrays\n",
    "for z in range(1000):\n",
    "    \n",
    "    #create array of 100 random four element arrays\n",
    "    coefficientArrs = []\n",
    "    for x in range(200):\n",
    "        coefficientArr = []\n",
    "        for y in range(4):\n",
    "            coefficientArr.append(random.uniform(-60, 60))\n",
    "            coefficientArrs.append(coefficientArr)\n",
    "    \n",
    "    \n",
    "    fitnessArr = []\n",
    "    mseTotal = 0\n",
    "    for i in range(200):\n",
    "        for j in range(50):\n",
    "            prediction = coefficientArrs[i][0]*x1[j]**3 + coefficientArrs[i][1]*x1[j]**2 + coefficientArrs[i][2]*x1[j] + coefficientArrs[i][3]\n",
    "\n",
    "            mse = (prediction - y1[j])**2\n",
    "            mseTotal += mse\n",
    "        fitnessArr.append(mseTotal)\n",
    "        mseTotal = 0\n",
    "\n",
    "    #find index of ten best coefficient arrays\n",
    "    bestCoeffArr = []\n",
    "    for x in range(10):\n",
    "        currMin = fitnessArr.index(min(fitnessArr))\n",
    "        bestCoeffArr.append(currMin)\n",
    "        fitnessArr[currMin] = 1000000000\n",
    "\n",
    "    #create children using mutation and crossover\n",
    "    mutationIndex = random.randint(0, 9)\n",
    "    randIndices = r.sample([0,1,2,3,4,5,6,7,8,9], 6)\n",
    "    children = []\n",
    "    for x in range(10):\n",
    "        #mutation rate is .1 so always just pick one element to mutate\n",
    "        if x == mutationIndex:\n",
    "            randCoef = random.choice([0, 1, 2, 3])\n",
    "            randMultiplier = random.uniform(.8, 1.2)\n",
    "            childCoef = coefficientArrs[bestCoeffArr[x]][randCoef] * randMultiplier\n",
    "            coefficientArrs[bestCoeffArr[x]][randCoef] = childCoef\n",
    "\n",
    "        #crossover - single arithmetic, rate is .6 so using 6 parents\n",
    "        if x == randIndices[0]:\n",
    "            tempCoef = coefficientArrs[bestCoeffArr[randIndices[0]]][crossoverRandCoef]\n",
    "            coefficientArrs[bestCoeffArr[randIndices[0]]][crossoverRandCoef] = coefficientArrs[bestCoeffArr[randIndices[3]]][crossoverRandCoef]\n",
    "            coefficientArrs[bestCoeffArr[randIndices[3]]][crossoverRandCoef] = tempCoef\n",
    "\n",
    "        if x == randIndices[1]:\n",
    "            tempCoef = coefficientArrs[bestCoeffArr[randIndices[1]]][crossoverRandCoef]\n",
    "            coefficientArrs[bestCoeffArr[randIndices[1]]][crossoverRandCoef] = coefficientArrs[bestCoeffArr[randIndices[4]]][crossoverRandCoef]\n",
    "            coefficientArrs[bestCoeffArr[randIndices[4]]][crossoverRandCoef] = tempCoef\n",
    "\n",
    "        if x == randIndices[2]:\n",
    "            tempCoef = coefficientArrs[bestCoeffArr[randIndices[2]]][crossoverRandCoef]\n",
    "            coefficientArrs[bestCoeffArr[randIndices[2]]][crossoverRandCoef] = coefficientArrs[bestCoeffArr[randIndices[5]]][crossoverRandCoef]\n",
    "            coefficientArrs[bestCoeffArr[randIndices[5]]][crossoverRandCoef] = tempCoef\n",
    "\n",
    "\n",
    "        children.append([bestCoeffArr[x], coefficientArrs[bestCoeffArr[x]]])\n",
    "\n",
    "    #find best child array\n",
    "    childFitnessArr = []\n",
    "    mseTotal = 0\n",
    "    for i in range(10):\n",
    "        for j in range(50):\n",
    "                prediction = children[i][1][0]*x1[j]**3 + children[i][1][1]*x1[j]**2 + children[i][1][2]*x1[j] + children[i][1][3]\n",
    "\n",
    "                mse = (prediction - y1[j])**2  \n",
    "                mseTotal += mse\n",
    "        childFitnessArr.append(mseTotal)\n",
    "        mseTotal = 0\n",
    "\n",
    "    bestOverall.append(children[childFitnessArr.index(min(childFitnessArr))][1])\n",
    "\n",
    "#just put all of the above in a loop and then find best coefficients out of 'bestOverall'\n",
    "bestFitnessArr = []\n",
    "for i in range(1000):\n",
    "        for j in range(50):\n",
    "            prediction = bestOverall[i][0]*x1[j]**3 + bestOverall[i][1]*x1[j]**2 + bestOverall[i][2]*x1[j] + bestOverall[i][3]\n",
    "\n",
    "            mse = (prediction - y1[j])**2\n",
    "            mseTotal += mse\n",
    "        bestFitnessArr.append(mseTotal)\n",
    "        mseTotal = 0\n",
    "\n",
    "resultIndex = bestFitnessArr.index(min(bestFitnessArr))\n",
    "result = bestOverall[resultIndex]\n",
    "print(result)"
   ]
  },
  {
   "cell_type": "code",
   "execution_count": 177,
   "id": "130363f2",
   "metadata": {},
   "outputs": [
    {
     "data": {
      "text/plain": [
       "[<matplotlib.lines.Line2D at 0x12148ead0>]"
      ]
     },
     "execution_count": 177,
     "metadata": {},
     "output_type": "execute_result"
    },
    {
     "data": {
      "image/png": "[encoded data removed]",
      "text/plain": [
       "<Figure size 640x480 with 1 Axes>"
      ]
     },
     "metadata": {},
     "output_type": "display_data"
    }
   ],
   "source": [
    "#generate predictions based on coefficients found in above algorithm\n",
    "yHat = []\n",
    "for j in range(50):\n",
    "    prediction = result[0]*x1[j]**3 + result[1]*x1[j]**2 + result[2]*x1[j] + result[3]\n",
    "    yHat.append(prediction)\n",
    "    \n",
    "xs = np.linspace(-20, 5, 50)\n",
    "plt.plot(a,b,'ro')\n",
    "plt.plot(a, yHat, 'bo')\n",
    "\n",
    "\n",
    "#fitting a polynomial with the same data for comparison\n",
    "coefficients1 = np.polyfit(x1, y1, 3)\n",
    "\n",
    "yHatHw1 = []\n",
    "for j in range(50):\n",
    "    prediction = coefficients1[0]*x1[j]**3 + coefficients1[1]*x1[j]**2 + coefficients1[2]*x1[j] + coefficients1[3]\n",
    "    yHatHw1.append(prediction)\n",
    "\n",
    "\n",
    "predictions = PolyCoefficients(xs, coefficients1)\n",
    "\n",
    "plt.plot(a, yHatHw1, 'go')\n",
    "\n",
    "\n"
   ]
  },
  {
   "cell_type": "code",
   "execution_count": null,
   "id": "2269bb27",
   "metadata": {},
   "outputs": [],
   "source": []
  }
 ],
 "metadata": {
  "kernelspec": {
   "display_name": "Python 3 (ipykernel)",
   "language": "python",
   "name": "python3"
  },
  "language_info": {
   "codemirror_mode": {
    "name": "ipython",
    "version": 3
   },
   "file_extension": ".py",
   "mimetype": "text/x-python",
   "name": "python",
   "nbconvert_exporter": "python",
   "pygments_lexer": "ipython3",
   "version": "3.11.3"
  }
 },
 "nbformat": 4,
 "nbformat_minor": 5
}
